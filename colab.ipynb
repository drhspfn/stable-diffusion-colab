{
  "nbformat": 4,
  "nbformat_minor": 0,
  "metadata": {
    "colab": {
      "provenance": [],
      "gpuType": "T4",
      "include_colab_link": true
    },
    "kernelspec": {
      "name": "python3",
      "display_name": "Python 3"
    },
    "language_info": {
      "name": "python"
    },
    "accelerator": "GPU"
  },
  "cells": [
    {
      "cell_type": "markdown",
      "metadata": {
        "id": "view-in-github",
        "colab_type": "text"
      },
      "source": [
        "<a href=\"https://colab.research.google.com/github/drhspfn/stable-diffusion-colab/blob/main/colab.ipynb\" target=\"_parent\"><img src=\"https://colab.research.google.com/assets/colab-badge.svg\" alt=\"Open In Colab\"/></a>"
      ]
    },
    {
      "cell_type": "code",
      "source": [
        "#@title Download and Install WEB UI\n",
        "import ipywidgets as widgets\n",
        "from IPython.display import display\n",
        "INISTALL_PATH1 = \"/content/stable-diffusion-webui/models/Stable-diffusion\"\n",
        "INISTALL_PATH2 = \"/content/stable-diffusion-webui/models/Lora\"\n",
        "\n",
        "!git clone https://github.com/drhspfn/stable-diffusion-colab.git\n",
        "\n",
        "!sh /content/stable-diffusion-colab/install.sh"
      ],
      "metadata": {
        "id": "FSDE9OP0UG50"
      },
      "execution_count": null,
      "outputs": []
    },
    {
      "cell_type": "code",
      "source": [
        "!sh /content/stable-diffusion-colab/install_new.sh"
      ],
      "metadata": {
        "id": "AIzyJmgXNkoA"
      },
      "execution_count": null,
      "outputs": []
    },
    {
      "cell_type": "code",
      "source": [
        "#@title Just Run\n",
        "import ipywidgets as widgets\n",
        "from IPython.display import display\n",
        "\n",
        "import ipywidgets as widgets\n",
        "\n",
        "model_dl_link = widgets.Text(description='Model Download ID:', value=\"62528\")\n",
        "model_dl_button = widgets.Button(description='DOWNLOAD!')\n",
        "def download_model(b):\n",
        "  link = model_dl_link.value.strip()\n",
        "  !wget -P $INISTALL_PATH1 \"https://civitai.com/api/download/models/$link\" --content-disposition\n",
        "\n",
        "model_dl_button.on_click(download_model)\n",
        "##################################################################################################\n",
        "lora_dl_link = widgets.Text(description='Lora Download ID:', value=\"23898, 16677, 30420, 61391, 20546, 23250, 62276\")\n",
        "lora_dl_button = widgets.Button(description='DOWNLOAD!')\n",
        "def download_lora(b):\n",
        "  link = lora_dl_link.value.strip()\n",
        "  split_data = link.split(\",\")\n",
        "  if split_data and len(split_data) >= 2:\n",
        "    for x_id in split_data:\n",
        "      xx_id = x_id.strip()\n",
        "      !wget -P $INISTALL_PATH2 \"https://civitai.com/api/download/models/$xx_id\" --content-disposition\n",
        "  else:\n",
        "    !wget -P $INISTALL_PATH2 \"https://civitai.com/api/download/models/$link\" --content-disposition\n",
        "\n",
        "lora_dl_button.on_click(download_lora)\n",
        "#################################################################################################\n",
        "start_webui = widgets.Button(description='Start WEB UI!')\n",
        "def start_webio(b):\n",
        "  print(\"start web ui\")\n",
        "  !sh /content/stable-diffusion-colab/run.sh\n",
        "start_webui.on_click(start_webio)\n",
        "\n",
        "\n",
        "# Создание вкладок\n",
        "tab1 = widgets.VBox([model_dl_link, model_dl_button], layout=widgets.Layout(width='400px'))\n",
        "tab2 = widgets.VBox([lora_dl_link, lora_dl_button], layout=widgets.Layout(width='400px'))\n",
        "tab3 = widgets.VBox([start_webui], layout=widgets.Layout(width='400px'))\n",
        "\n",
        "# Создание Tab контейнера и добавление вкладок\n",
        "tab_container = widgets.Tab(children=[tab1, tab2, tab3])\n",
        "tab_container.set_title(0, 'Download Model')\n",
        "tab_container.set_title(1, 'Download Lora')\n",
        "tab_container.set_title(2, 'WEB UI')\n",
        "# Отображение Tab контейнера\n",
        "display(tab_container)\n"
      ],
      "metadata": {
        "id": "zAzQVrvNWf2f",
        "cellView": "form"
      },
      "execution_count": null,
      "outputs": []
    }
  ]
}